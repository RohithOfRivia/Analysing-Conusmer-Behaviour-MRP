{
  "cells": [
    {
      "cell_type": "markdown",
      "metadata": {
        "id": "view-in-github",
        "colab_type": "text"
      },
      "source": [
        "<a href=\"https://colab.research.google.com/github/RohithOfRivia/Analysing-Conusmer-Behaviour-MRP/blob/main/Best_submission.ipynb\" target=\"_parent\"><img src=\"https://colab.research.google.com/assets/colab-badge.svg\" alt=\"Open In Colab\"/></a>"
      ]
    },
    {
      "cell_type": "markdown",
      "metadata": {
        "id": "d7XX7yaeBoMC"
      },
      "source": [
        "# Imports"
      ]
    },
    {
      "cell_type": "code",
      "execution_count": null,
      "metadata": {
        "colab": {
          "base_uri": "https://localhost:8080/"
        },
        "id": "ryAim0JRToN2",
        "outputId": "24c3023e-34fa-438b-d388-070663ca98da"
      },
      "outputs": [
        {
          "output_type": "stream",
          "name": "stdout",
          "text": [
            "Looking in indexes: https://pypi.org/simple, https://us-python.pkg.dev/colab-wheels/public/simple/\n",
            "Collecting rdkit\n",
            "  Downloading rdkit-2022.9.5-cp39-cp39-manylinux_2_17_x86_64.manylinux2014_x86_64.whl (29.4 MB)\n",
            "\u001b[2K     \u001b[90m━━━━━━━━━━━━━━━━━━━━━━━━━━━━━━━━━━━━━━━━\u001b[0m \u001b[32m29.4/29.4 MB\u001b[0m \u001b[31m33.6 MB/s\u001b[0m eta \u001b[36m0:00:00\u001b[0m\n",
            "\u001b[?25hRequirement already satisfied: numpy in /usr/local/lib/python3.9/dist-packages (from rdkit) (1.22.4)\n",
            "Requirement already satisfied: Pillow in /usr/local/lib/python3.9/dist-packages (from rdkit) (8.4.0)\n",
            "Installing collected packages: rdkit\n",
            "Successfully installed rdkit-2022.9.5\n",
            "Looking in indexes: https://pypi.org/simple, https://us-python.pkg.dev/colab-wheels/public/simple/\n",
            "Requirement already satisfied: mlxtend in /usr/local/lib/python3.9/dist-packages (0.14.0)\n",
            "Collecting mlxtend\n",
            "  Downloading mlxtend-0.22.0-py2.py3-none-any.whl (1.4 MB)\n",
            "\u001b[2K     \u001b[90m━━━━━━━━━━━━━━━━━━━━━━━━━━━━━━━━━━━━━━━━\u001b[0m \u001b[32m1.4/1.4 MB\u001b[0m \u001b[31m10.5 MB/s\u001b[0m eta \u001b[36m0:00:00\u001b[0m\n",
            "\u001b[?25hRequirement already satisfied: pandas>=0.24.2 in /usr/local/lib/python3.9/dist-packages (from mlxtend) (1.4.4)\n",
            "Requirement already satisfied: numpy>=1.16.2 in /usr/local/lib/python3.9/dist-packages (from mlxtend) (1.22.4)\n",
            "Requirement already satisfied: scipy>=1.2.1 in /usr/local/lib/python3.9/dist-packages (from mlxtend) (1.10.1)\n",
            "Requirement already satisfied: matplotlib>=3.0.0 in /usr/local/lib/python3.9/dist-packages (from mlxtend) (3.7.1)\n",
            "Requirement already satisfied: scikit-learn>=1.0.2 in /usr/local/lib/python3.9/dist-packages (from mlxtend) (1.2.2)\n",
            "Requirement already satisfied: joblib>=0.13.2 in /usr/local/lib/python3.9/dist-packages (from mlxtend) (1.1.1)\n",
            "Requirement already satisfied: setuptools in /usr/local/lib/python3.9/dist-packages (from mlxtend) (67.6.1)\n",
            "Requirement already satisfied: importlib-resources>=3.2.0 in /usr/local/lib/python3.9/dist-packages (from matplotlib>=3.0.0->mlxtend) (5.12.0)\n",
            "Requirement already satisfied: contourpy>=1.0.1 in /usr/local/lib/python3.9/dist-packages (from matplotlib>=3.0.0->mlxtend) (1.0.7)\n",
            "Requirement already satisfied: fonttools>=4.22.0 in /usr/local/lib/python3.9/dist-packages (from matplotlib>=3.0.0->mlxtend) (4.39.3)\n",
            "Requirement already satisfied: kiwisolver>=1.0.1 in /usr/local/lib/python3.9/dist-packages (from matplotlib>=3.0.0->mlxtend) (1.4.4)\n",
            "Requirement already satisfied: pillow>=6.2.0 in /usr/local/lib/python3.9/dist-packages (from matplotlib>=3.0.0->mlxtend) (8.4.0)\n",
            "Requirement already satisfied: pyparsing>=2.3.1 in /usr/local/lib/python3.9/dist-packages (from matplotlib>=3.0.0->mlxtend) (3.0.9)\n",
            "Requirement already satisfied: cycler>=0.10 in /usr/local/lib/python3.9/dist-packages (from matplotlib>=3.0.0->mlxtend) (0.11.0)\n",
            "Requirement already satisfied: python-dateutil>=2.7 in /usr/local/lib/python3.9/dist-packages (from matplotlib>=3.0.0->mlxtend) (2.8.2)\n",
            "Requirement already satisfied: packaging>=20.0 in /usr/local/lib/python3.9/dist-packages (from matplotlib>=3.0.0->mlxtend) (23.0)\n",
            "Requirement already satisfied: pytz>=2020.1 in /usr/local/lib/python3.9/dist-packages (from pandas>=0.24.2->mlxtend) (2022.7.1)\n",
            "Requirement already satisfied: threadpoolctl>=2.0.0 in /usr/local/lib/python3.9/dist-packages (from scikit-learn>=1.0.2->mlxtend) (3.1.0)\n",
            "Requirement already satisfied: zipp>=3.1.0 in /usr/local/lib/python3.9/dist-packages (from importlib-resources>=3.2.0->matplotlib>=3.0.0->mlxtend) (3.15.0)\n",
            "Requirement already satisfied: six>=1.5 in /usr/local/lib/python3.9/dist-packages (from python-dateutil>=2.7->matplotlib>=3.0.0->mlxtend) (1.16.0)\n",
            "Installing collected packages: mlxtend\n",
            "  Attempting uninstall: mlxtend\n",
            "    Found existing installation: mlxtend 0.14.0\n",
            "    Uninstalling mlxtend-0.14.0:\n",
            "      Successfully uninstalled mlxtend-0.14.0\n",
            "Successfully installed mlxtend-0.22.0\n",
            "Looking in indexes: https://pypi.org/simple, https://us-python.pkg.dev/colab-wheels/public/simple/\n",
            "Collecting Boruta\n",
            "  Downloading Boruta-0.3-py3-none-any.whl (56 kB)\n",
            "\u001b[2K     \u001b[90m━━━━━━━━━━━━━━━━━━━━━━━━━━━━━━━━━━━━━━━━\u001b[0m \u001b[32m56.6/56.6 KB\u001b[0m \u001b[31m4.5 MB/s\u001b[0m eta \u001b[36m0:00:00\u001b[0m\n",
            "\u001b[?25hRequirement already satisfied: scipy>=0.17.0 in /usr/local/lib/python3.9/dist-packages (from Boruta) (1.10.1)\n",
            "Requirement already satisfied: scikit-learn>=0.17.1 in /usr/local/lib/python3.9/dist-packages (from Boruta) (1.2.2)\n",
            "Requirement already satisfied: numpy>=1.10.4 in /usr/local/lib/python3.9/dist-packages (from Boruta) (1.22.4)\n",
            "Requirement already satisfied: joblib>=1.1.1 in /usr/local/lib/python3.9/dist-packages (from scikit-learn>=0.17.1->Boruta) (1.1.1)\n",
            "Requirement already satisfied: threadpoolctl>=2.0.0 in /usr/local/lib/python3.9/dist-packages (from scikit-learn>=0.17.1->Boruta) (3.1.0)\n",
            "Installing collected packages: Boruta\n",
            "Successfully installed Boruta-0.3\n"
          ]
        }
      ],
      "source": [
        "!pip install rdkit\n",
        "!pip install -U mlxtend\n",
        "!pip install Boruta\n",
        "\n",
        "import statsmodels.api as sm\n",
        "from statsmodels.stats.outliers_influence import variance_inflation_factor\n",
        "\n",
        "from boruta import BorutaPy\n",
        "\n",
        "import joblib\n",
        "import sys\n",
        "sys.modules['sklearn.externals.joblib'] = joblib\n",
        "from mlxtend.feature_selection import SequentialFeatureSelector as SFS\n",
        "import warnings\n",
        "warnings.filterwarnings('ignore')\n",
        "\n",
        "import pandas as pd\n",
        "import numpy as np\n",
        "import matplotlib.pyplot as plt\n",
        "import seaborn as sns\n",
        "\n",
        "from imblearn.over_sampling import BorderlineSMOTE\n",
        "\n",
        "from rdkit import Chem\n",
        "from rdkit.Chem import AllChem\n",
        "from rdkit.Chem import Descriptors\n",
        "from rdkit.ML.Descriptors import MoleculeDescriptors\n",
        "from rdkit.Chem import MACCSkeys\n",
        "\n",
        "from sklearn.cluster import KMeans\n",
        "\n",
        "from sklearn.svm import OneClassSVM\n",
        "from sklearn.linear_model import LogisticRegression\n",
        "from sklearn.neighbors import KNeighborsClassifier, LocalOutlierFactor\n",
        "from sklearn.ensemble import (GradientBoostingClassifier, \n",
        "                              HistGradientBoostingClassifier, IsolationForest)\n",
        "from sklearn.ensemble import RandomForestClassifier\n",
        "from sklearn.model_selection import train_test_split, RepeatedStratifiedKFold, cross_val_score, cross_val_predict\n",
        "from sklearn.metrics import accuracy_score\n",
        "from sklearn.preprocessing import StandardScaler, LabelEncoder, OrdinalEncoder\n",
        "from sklearn.preprocessing import MinMaxScaler\n",
        "from sklearn.preprocessing import LabelEncoder\n",
        "\n",
        "from sklearn.decomposition import PCA\n",
        "from sklearn.feature_selection import VarianceThreshold\n",
        "from sklearn.utils import resample\n",
        "\n",
        "from sklearn.metrics import f1_score, recall_score\n",
        "\n",
        "from sklearn.base import BaseEstimator, TransformerMixin\n",
        "from sklearn.pipeline import Pipeline\n",
        "\n",
        "from sklearn.model_selection import GridSearchCV, RandomizedSearchCV\n",
        "from sklearn.model_selection import StratifiedKFold\n",
        "\n",
        "from xgboost import XGBClassifier\n",
        "import time\n",
        "import os\n",
        "from mlxtend.feature_selection import SequentialFeatureSelector as SFS"
      ]
    },
    {
      "cell_type": "code",
      "execution_count": null,
      "metadata": {
        "id": "lccUps1M4lzA"
      },
      "outputs": [],
      "source": [
        "  "
      ]
    },
    {
      "cell_type": "markdown",
      "metadata": {
        "id": "4dmdcmf-Brow"
      },
      "source": [
        "# Preprocessing and pipeline"
      ]
    },
    {
      "cell_type": "code",
      "execution_count": null,
      "metadata": {
        "id": "dHI-241UUPcl"
      },
      "outputs": [],
      "source": [
        "train_data_url = \"https://raw.githubusercontent.com/RohithOfRivia/SMILES-Toxicity-Prediction/main/Data/train_II.csv\"\n",
        "test_data_url = \"https://raw.githubusercontent.com/RohithOfRivia/SMILES-Toxicity-Prediction/main/Data/test_II.csv\"\n",
        "\n",
        "df = pd.read_csv(train_data_url)"
      ]
    },
    {
      "cell_type": "code",
      "execution_count": null,
      "metadata": {
        "id": "mF1xLYWXUQPa"
      },
      "outputs": [],
      "source": [
        "#transforming each compound into their canonical SMILES format. Optional.\n",
        "def canonicalSmiles(smile):\n",
        "    try:\n",
        "        return Chem.MolToSmiles(Chem.MolFromSmiles(smile))\n",
        "    except:\n",
        "        return(Chem.MolToSmiles(Chem.MolFromSmiles(\"[Na+].[Na+].F[Si--](F)(F)(F)(F)F\")))"
      ]
    },
    {
      "cell_type": "code",
      "execution_count": null,
      "metadata": {
        "id": "kqnkzT-bUQn6"
      },
      "outputs": [],
      "source": [
        "#Reads data and split up the given features\n",
        "class FileReadTransform(BaseEstimator, TransformerMixin):\n",
        "    \n",
        "    def fit(self, X, y=None):\n",
        "        return self\n",
        "    \n",
        "    #training and test data are slightly different, hence passing optional test param\n",
        "    def transform(self, X, test=False):\n",
        "        \n",
        "        try:\n",
        "          # if test == False:\n",
        "            X['SMILES'] = X['Id'].apply(lambda x: x.split(';')[0])\n",
        "            X['assay'] = X['Id'].apply(lambda x: x.split(';')[1])\n",
        "        \n",
        "        except KeyError:\n",
        "            X['SMILES'] = X['x'].apply(lambda x: x.split(';')[0])\n",
        "            X['assay'] = X['x'].apply(lambda x: x.split(';')[1])\n",
        "          \n",
        "        print(\"FileReadTransform done\")\n",
        "        \n",
        "        #correct smiles for this compound found through https://www.molport.com/shop/index\n",
        "        #X[\"SMILES\"] = X[\"SMILES\"].replace({\"F[Si-2](F)(F)(F)(F)F.[Na+].[Na+]\":\"[Na+].[Na+].F[Si--](F)(F)(F)(F)F\"})\n",
        "        \n",
        "        #Deleting invalid compound from the data\n",
        "        X = X.loc[X.SMILES != \"F[Si-2](F)(F)(F)(F)F.[Na+].[Na+]\"]\n",
        "        return X\n",
        "    \n",
        "#Converts each SMILES value to its respective canonical SMILES \n",
        "class CanonicalGenerator(BaseEstimator, TransformerMixin):\n",
        "    \n",
        "    def fit(self, X, y=None):\n",
        "        return self\n",
        "    \n",
        "    def transform(self, X):\n",
        "        X['SMILES'] = X['SMILES'].apply(canonicalSmiles)\n",
        "        print(\"CanonicalGenerator done\")\n",
        "        return X\n",
        "\n",
        "\n",
        "#Generate fingerprints for all compounds\n",
        "class FingerprintGenerator(BaseEstimator, TransformerMixin):\n",
        "    \n",
        "    def fit(self, X, y=None):\n",
        "        return self\n",
        "    \n",
        "    def transform(self, X):\n",
        "          #tracks each unique compound and its fingerprints\n",
        "          tracker = []\n",
        "          fps = []\n",
        "          assays = []\n",
        "          unique = len(X['SMILES'].unique())\n",
        "          counter = 0\n",
        "\n",
        "          for index, columns in X[[\"SMILES\", \"assay\"]].iterrows():\n",
        "\n",
        "              #skip if already in tracker\n",
        "              if columns[0] in tracker:\n",
        "                  continue\n",
        "\n",
        "              #append each unique compound and theer respective fingerprints\n",
        "              else:\n",
        "                  tracker.append(columns[0])\n",
        "                  assays.append(columns[1])\n",
        "\n",
        "                  mol = Chem.MolFromSmiles(columns[0])\n",
        "                  fp = AllChem.GetMorganFingerprintAsBitVect(mol, 2, nBits=256)\n",
        "                  fps.append(fp.ToList())\n",
        "\n",
        "                  counter += 1\n",
        "\n",
        "                  # print(f\"compound {counter}/{unique}...\n",
        "\n",
        "          #Combining all compounds, assays and fingerprints into one dataframe \n",
        "          cols = a = [\"x\" + str(i) for i in range (1, 257)]\n",
        "          smiles_df = pd.DataFrame(columns=['SMILES'], data=tracker)\n",
        "          fingerprints = pd.DataFrame(columns=cols, data=fps)\n",
        "\n",
        "          df = pd.concat([smiles_df, fingerprints], axis=1)\n",
        "\n",
        "          print(\"FingerprintGenerator done\")\n",
        "          return pd.merge(X, df, on='SMILES') \n",
        "\n",
        "#Fingerprint generation for MACCS Keys\n",
        "class FingerprintGeneratorM(BaseEstimator, TransformerMixin):\n",
        "    \n",
        "\n",
        "    def fit(self, X, y=None):\n",
        "        return self\n",
        "    \n",
        "    def transform(self, X):\n",
        "      \n",
        "          #tracks each unique compound and its fingerprints\n",
        "          tracker = []\n",
        "          fps = []\n",
        "          assays = []\n",
        "          unique = len(X['SMILES'].unique())\n",
        "          counter = 0\n",
        "\n",
        "          for index, columns in X[[\"SMILES\", \"assay\"]].iterrows():\n",
        "\n",
        "              #skip if already in tracker\n",
        "              if columns[0] in tracker:\n",
        "                  continue\n",
        "\n",
        "              #append each unique compound and thier respective fingerprints\n",
        "              else:\n",
        "                  \n",
        "\n",
        "                  tracker.append(columns[0])\n",
        "                  assays.append(columns[1])\n",
        "\n",
        "                  mol = Chem.MolFromSmiles(columns[0])\n",
        "                  fp = MACCSkeys.GenMACCSKeys(mol)\n",
        "                  fps.append(fp.ToList())\n",
        "\n",
        "                  counter += 1\n",
        "\n",
        "                  # print(f\"compound {counter}/{unique}...\n",
        "\n",
        "          #Combining all compounds, assays and fingerprints into one dataframe \n",
        "          cols = a = [\"x\" + str(i) for i in range (1, 168)]\n",
        "          smiles_df = pd.DataFrame(columns=['SMILES'], data=tracker)\n",
        "          fingerprints = pd.DataFrame(columns=cols, data=fps)\n",
        "\n",
        "          df = pd.concat([smiles_df, fingerprints], axis=1)\n",
        "\n",
        "          print(\"FingerprintGenerator done\")\n",
        "          return pd.merge(X, df, on='SMILES') \n",
        "\n",
        "\n",
        "#Feature reduction with variance threshold \n",
        "class VarianceThresh(BaseEstimator, TransformerMixin):\n",
        "\n",
        "    def fit(self, X, y=None):\n",
        "        return self\n",
        "    \n",
        "    def transform(self, X, thresh=.8):\n",
        "      \n",
        "      #Looks to columns to determine whether X is training or testing data \n",
        "      cols = X.columns\n",
        "      if 'x' in cols:\n",
        "        temp_df = X.drop(columns=[\"x\", \"assay\", \"SMILES\"])\n",
        "        cols = [\"x\", \"assay\", \"SMILES\"]\n",
        "      else:\n",
        "        temp_df = X.drop(columns=[\"Id\", \"Expected\",\"assay\", \"SMILES\"])\n",
        "        cols = [\"Id\", \"Expected\",\"assay\", \"SMILES\"]\n",
        "\n",
        "      #Selecting features based on the variance threshold\n",
        "      selector = VarianceThreshold(threshold=(thresh * (1 - thresh))) \n",
        "      selector.fit(temp_df)\n",
        "\n",
        "      #This line transforms the data while keeping the column names \n",
        "      temp_df = temp_df.loc[:, selector.get_support()]\n",
        "\n",
        "      #Attaching the ids, assays, smiles etc. that is still required for model\n",
        "      return pd.concat([X[cols], temp_df], axis=1) , selector\n",
        "\n",
        "\n",
        "#Scale descriptors (Not used in this notebook)\n",
        "class Scaler(BaseEstimator, TransformerMixin):\n",
        "\n",
        "    def fit(self, X, y=None):\n",
        "      return self\n",
        "    \n",
        "    def transform(self, X):\n",
        "      scaler = StandardScaler()\n",
        "\n",
        "      if 'Id' in X.columns:\n",
        "        temp_df = X.drop(columns=[\"Id\", \"Expected\", \"assay\", \"SMILES\"])\n",
        "        cols = [\"Id\", \"Expected\",\"assay\", \"SMILES\"]\n",
        "\n",
        "        X_scaled = pd.DataFrame(scaler.fit_transform(temp_df), columns=temp_df.columns)\n",
        "        X = pd.concat([X[cols].reset_index(drop=True), X_scaled], axis=1)\n",
        "          \n",
        "        return X\n",
        "\n",
        "      else:\n",
        "        temp_df = X.drop(columns=[\"x\", \"assay\", \"SMILES\"])\n",
        "        cols = [\"x\", \"assay\", \"SMILES\"]\n",
        "\n",
        "        X_scaled = pd.DataFrame(scaler.fit_transform(temp_df), columns=temp_df.columns)\n",
        "        X = pd.concat([X[cols].reset_index(drop=True), X_scaled], axis=1)\n",
        "\n",
        "        return X\n",
        "\n",
        "\n"
      ]
    },
    {
      "cell_type": "markdown",
      "metadata": {
        "id": "bArk50ghju_F"
      },
      "source": [
        "# Generating descriptors"
      ]
    },
    {
      "cell_type": "code",
      "execution_count": null,
      "metadata": {
        "id": "hEDljdsOhxja"
      },
      "outputs": [],
      "source": [
        "class DescriptorGenerator(BaseEstimator, TransformerMixin):\n",
        "\n",
        "  def fit(self, X, y=None):\n",
        "        return self\n",
        "    \n",
        "  def transform(self, X):\n",
        "    #Initializing descriptor calculator\n",
        "    calc = MoleculeDescriptors.MolecularDescriptorCalculator([x[0] for x in Descriptors._descList])\n",
        "    desc_names = calc.GetDescriptorNames()\n",
        "\n",
        "    #Tracking each unique compound and generating descriptors \n",
        "    tracker = []\n",
        "    descriptors = []\n",
        "    for compound in X['SMILES']:\n",
        "\n",
        "      if compound in tracker:\n",
        "        continue\n",
        "\n",
        "      else:\n",
        "        tracker.append(compound)\n",
        "\n",
        "        mol = Chem.MolFromSmiles(compound)\n",
        "        current_descriptors = calc.CalcDescriptors(mol)\n",
        "        descriptors.append(current_descriptors)\n",
        "\n",
        "    # Combining X, SMILES, and generated descriptors \n",
        "    df = pd.DataFrame(descriptors,columns=desc_names)\n",
        "    temp_df = pd.DataFrame(tracker, columns=[\"SMILES\"])\n",
        "    df = pd.concat([df, temp_df], axis=1)\n",
        "\n",
        "    print(\"DescriptorGenerator done\")\n",
        "    return pd.merge(X, df, on='SMILES')"
      ]
    },
    {
      "cell_type": "markdown",
      "source": [
        "# Create Pipeline"
      ],
      "metadata": {
        "id": "eeZP1h5mMb8W"
      }
    },
    {
      "cell_type": "code",
      "execution_count": null,
      "metadata": {
        "colab": {
          "base_uri": "https://localhost:8080/"
        },
        "id": "BSzN3tVUjrd3",
        "outputId": "e0ad1241-fe9f-48bb-f45f-792a5292a586"
      },
      "outputs": [
        {
          "output_type": "stream",
          "name": "stdout",
          "text": [
            "FileReadTransform done\n",
            "CanonicalGenerator done\n",
            "FingerprintGenerator done\n",
            "DescriptorGenerator done\n",
            "FileReadTransform done\n",
            "CanonicalGenerator done\n",
            "FingerprintGenerator done\n",
            "DescriptorGenerator done\n"
          ]
        }
      ],
      "source": [
        "feature_generation_pipeline = Pipeline(steps=[\n",
        "    ('read', FileReadTransform()),\n",
        "     ('canon', CanonicalGenerator()),\n",
        "     ('fpr', FingerprintGenerator()),\n",
        "     ('desc', DescriptorGenerator())\n",
        "     ])\n",
        "\n",
        "df_processed = feature_generation_pipeline.fit_transform(df)\n",
        "test_processed = feature_generation_pipeline.fit_transform(pd.read_csv(test_data_url))"
      ]
    },
    {
      "cell_type": "markdown",
      "metadata": {
        "id": "ZNYwNjbtCGnD"
      },
      "source": [
        "# Feature Selection"
      ]
    },
    {
      "cell_type": "code",
      "execution_count": null,
      "metadata": {
        "id": "TgFazc2wpV7n"
      },
      "outputs": [],
      "source": [
        "#Isolating the chemical descriptors for feature selection\n",
        "descriptors = pd.concat([df_processed[['Id','SMILES','assay', 'Expected']], df_processed[df_processed.columns[-208:]]], axis=1)"
      ]
    },
    {
      "cell_type": "code",
      "execution_count": null,
      "metadata": {
        "id": "RW4XjzgrYCOH",
        "colab": {
          "base_uri": "https://localhost:8080/"
        },
        "outputId": "90aee788-0638-431b-b6e8-1f4519d2ae83"
      },
      "outputs": [
        {
          "output_type": "execute_result",
          "data": {
            "text/plain": [
              "32552"
            ]
          },
          "metadata": {},
          "execution_count": 8
        }
      ],
      "source": [
        "#Removing all rows \n",
        "descriptors.isna().sum().sum()"
      ]
    },
    {
      "cell_type": "code",
      "execution_count": null,
      "metadata": {
        "id": "SR1lQ--GpWBw"
      },
      "outputs": [],
      "source": [
        "#Removing all columns which have NAN values\n",
        "descriptors2 = descriptors.drop(columns=['BCUT2D_MWHI', 'BCUT2D_MWLOW', 'BCUT2D_CHGHI', 'BCUT2D_CHGLO', 'BCUT2D_LOGPHI', 'BCUT2D_LOGPLOW',\n",
        "                      'BCUT2D_MRHI', 'BCUT2D_MRLOW'])\n",
        "descriptors2 = descriptors2.dropna()\n",
        "\n",
        "X = descriptors2.drop(['Id','SMILES','Expected'], axis=1)\n",
        "\n",
        "\n",
        "y = descriptors2[['Expected']]"
      ]
    },
    {
      "cell_type": "code",
      "source": [
        "#Removing all columns which have NAN values\n",
        "X['assay'] = X['assay'].astype(\"int64\")\n",
        "\n",
        "#Features selected from BorutaPy\n",
        "boruta_features2 = ['HeavyAtomMolWt','MaxPartialCharge','MinAbsPartialCharge','BertzCT','Chi1','Chi1n','Chi2v','Chi3n','Chi3v','Chi4v','LabuteASA','PEOE_VSA3','SMR_VSA6','SMR_VSA7','EState_VSA8','VSA_EState2','VSA_EState4','HeavyAtomCount','NumAromaticCarbocycles','MolLogP','MolMR','fr_Ar_OH','fr_COO','fr_COO2','fr_C_O','fr_C_O_noCOO','fr_amide','fr_benzene','fr_phenol','fr_phenol_noOrthoHbond','fr_sulfonamd','fr_thiazole','fr_thiophene','fr_urea','assay']\n",
        "\n",
        "#Splitting data for training and validation. Mapping expected values from 2 to 1 because XGBoost does not support it for binary classification\n",
        "X_train, X_test, y_train, y_test = train_test_split(X[boruta_features2], y['Expected'].map({2:0, 1:1}), test_size=0.2, random_state=0, stratify=y['Expected'].map({2:0, 1:1}))"
      ],
      "metadata": {
        "id": "fAF1gqh5e-nk"
      },
      "execution_count": null,
      "outputs": []
    },
    {
      "cell_type": "code",
      "source": [
        "''' Optional to run this. Gives a list of features that pass the test as the output. \n",
        "The variable declaredboruta_features2 is a saved version of the output when the code was run for the best submission.\n",
        "Output may vary slightly if executed again'''\n",
        "\n",
        "# model = XGBClassifier(max_depth=6, learning_rate=0.01, n_estimators=600, colsample_bytree=0.3)\n",
        "\n",
        "# boruta_features = []\n",
        "\n",
        "# # let's initialize Boruta\n",
        "# feat_selector = BorutaPy(\n",
        "#     verbose=2,\n",
        "#     estimator=model,\n",
        "#     n_estimators='auto',\n",
        "#     max_iter=10  # number of iterations to perform\n",
        "# )\n",
        "\n",
        "# # train Boruta\n",
        "# # N.B.: X and y must be numpy arrays\n",
        "# feat_selector.fit(np.array(X_train), np.array(y_train))\n",
        "\n",
        "# # print support and ranking for each feature\n",
        "# print(\"\\n------Support and Ranking for each feature------\")\n",
        "# for i in range(len(feat_selector.support_)):\n",
        "#     if feat_selector.support_[i]:\n",
        "#         boruta_features.append(X_train.columns[i])\n",
        "#         print(\"Passes the test: \", X_train.columns[i],\n",
        "#               \" - Ranking: \", feat_selector.ranking_[i])\n",
        "#     else:\n",
        "#         print(\"Doesn't pass the test: \",\n",
        "#               X_train.columns[i], \" - Ranking: \", feat_selector.ranking_[i])\n",
        "\n"
      ],
      "metadata": {
        "id": "OQcC_ccJi133",
        "colab": {
          "base_uri": "https://localhost:8080/",
          "height": 55
        },
        "outputId": "b5cce141-8b39-4d32-f0d7-7d8e110f2464"
      },
      "execution_count": null,
      "outputs": [
        {
          "output_type": "execute_result",
          "data": {
            "text/plain": [
              "' Optional to run this. Gives a list of features that pass the test as the output. \\nThe variable declaredboruta_features2 is a saved version of the output when the code was run for the best submission.\\nOutput may vary slightly if executed again'"
            ],
            "application/vnd.google.colaboratory.intrinsic+json": {
              "type": "string"
            }
          },
          "metadata": {},
          "execution_count": 11
        }
      ]
    },
    {
      "cell_type": "code",
      "source": [
        "#This method trains the model with the training data and then prints the f1 score by using predictions from the holdout data\n",
        "def train_model(xtrain, xtest, ytrain, ytest):\n",
        "  model = XGBClassifier(seed = 20, max_depth=10, n_estimators=700 )\n",
        "  model.fit(xtrain, ytrain)\n",
        "\n",
        "  predictions = model.predict(xtest)\n",
        "  print(f\"F1 Score of model: {f1_score(predictions, ytest)}\")"
      ],
      "metadata": {
        "id": "zG9MP6_XenIT"
      },
      "execution_count": null,
      "outputs": []
    },
    {
      "cell_type": "code",
      "source": [
        "train_model(X_train, X_test, y_train, y_test)"
      ],
      "metadata": {
        "colab": {
          "base_uri": "https://localhost:8080/"
        },
        "id": "K4FvsaAjgVEa",
        "outputId": "5e11d056-2201-43c9-8a4d-378195ddb42d"
      },
      "execution_count": null,
      "outputs": [
        {
          "output_type": "stream",
          "name": "stdout",
          "text": [
            "F1 Score of model: 0.6520947176684883\n"
          ]
        }
      ]
    },
    {
      "cell_type": "code",
      "source": [
        "#Now training with the entire dataset to make predictions on the test set\n",
        "\n",
        "descriptors2['assay'] = descriptors2['assay'].astype('int64') \n",
        "model = XGBClassifier(seed = 20, max_depth=10, n_estimators=700 )\n",
        "model.fit(descriptors2[boruta_features2], y['Expected'].map({2:0, 1:1}))"
      ],
      "metadata": {
        "colab": {
          "base_uri": "https://localhost:8080/",
          "height": 248
        },
        "id": "p-bLdz0yqcKo",
        "outputId": "887a8b6e-ad03-422b-8111-59698af6bd77"
      },
      "execution_count": null,
      "outputs": [
        {
          "output_type": "execute_result",
          "data": {
            "text/plain": [
              "XGBClassifier(base_score=None, booster=None, callbacks=None,\n",
              "              colsample_bylevel=None, colsample_bynode=None,\n",
              "              colsample_bytree=None, early_stopping_rounds=None,\n",
              "              enable_categorical=False, eval_metric=None, feature_types=None,\n",
              "              gamma=None, gpu_id=None, grow_policy=None, importance_type=None,\n",
              "              interaction_constraints=None, learning_rate=None, max_bin=None,\n",
              "              max_cat_threshold=None, max_cat_to_onehot=None,\n",
              "              max_delta_step=None, max_depth=10, max_leaves=None,\n",
              "              min_child_weight=None, missing=nan, monotone_constraints=None,\n",
              "              n_estimators=700, n_jobs=None, num_parallel_tree=None,\n",
              "              predictor=None, random_state=None, ...)"
            ],
            "text/html": [
              "<style>#sk-container-id-1 {color: black;background-color: white;}#sk-container-id-1 pre{padding: 0;}#sk-container-id-1 div.sk-toggleable {background-color: white;}#sk-container-id-1 label.sk-toggleable__label {cursor: pointer;display: block;width: 100%;margin-bottom: 0;padding: 0.3em;box-sizing: border-box;text-align: center;}#sk-container-id-1 label.sk-toggleable__label-arrow:before {content: \"▸\";float: left;margin-right: 0.25em;color: #696969;}#sk-container-id-1 label.sk-toggleable__label-arrow:hover:before {color: black;}#sk-container-id-1 div.sk-estimator:hover label.sk-toggleable__label-arrow:before {color: black;}#sk-container-id-1 div.sk-toggleable__content {max-height: 0;max-width: 0;overflow: hidden;text-align: left;background-color: #f0f8ff;}#sk-container-id-1 div.sk-toggleable__content pre {margin: 0.2em;color: black;border-radius: 0.25em;background-color: #f0f8ff;}#sk-container-id-1 input.sk-toggleable__control:checked~div.sk-toggleable__content {max-height: 200px;max-width: 100%;overflow: auto;}#sk-container-id-1 input.sk-toggleable__control:checked~label.sk-toggleable__label-arrow:before {content: \"▾\";}#sk-container-id-1 div.sk-estimator input.sk-toggleable__control:checked~label.sk-toggleable__label {background-color: #d4ebff;}#sk-container-id-1 div.sk-label input.sk-toggleable__control:checked~label.sk-toggleable__label {background-color: #d4ebff;}#sk-container-id-1 input.sk-hidden--visually {border: 0;clip: rect(1px 1px 1px 1px);clip: rect(1px, 1px, 1px, 1px);height: 1px;margin: -1px;overflow: hidden;padding: 0;position: absolute;width: 1px;}#sk-container-id-1 div.sk-estimator {font-family: monospace;background-color: #f0f8ff;border: 1px dotted black;border-radius: 0.25em;box-sizing: border-box;margin-bottom: 0.5em;}#sk-container-id-1 div.sk-estimator:hover {background-color: #d4ebff;}#sk-container-id-1 div.sk-parallel-item::after {content: \"\";width: 100%;border-bottom: 1px solid gray;flex-grow: 1;}#sk-container-id-1 div.sk-label:hover label.sk-toggleable__label {background-color: #d4ebff;}#sk-container-id-1 div.sk-serial::before {content: \"\";position: absolute;border-left: 1px solid gray;box-sizing: border-box;top: 0;bottom: 0;left: 50%;z-index: 0;}#sk-container-id-1 div.sk-serial {display: flex;flex-direction: column;align-items: center;background-color: white;padding-right: 0.2em;padding-left: 0.2em;position: relative;}#sk-container-id-1 div.sk-item {position: relative;z-index: 1;}#sk-container-id-1 div.sk-parallel {display: flex;align-items: stretch;justify-content: center;background-color: white;position: relative;}#sk-container-id-1 div.sk-item::before, #sk-container-id-1 div.sk-parallel-item::before {content: \"\";position: absolute;border-left: 1px solid gray;box-sizing: border-box;top: 0;bottom: 0;left: 50%;z-index: -1;}#sk-container-id-1 div.sk-parallel-item {display: flex;flex-direction: column;z-index: 1;position: relative;background-color: white;}#sk-container-id-1 div.sk-parallel-item:first-child::after {align-self: flex-end;width: 50%;}#sk-container-id-1 div.sk-parallel-item:last-child::after {align-self: flex-start;width: 50%;}#sk-container-id-1 div.sk-parallel-item:only-child::after {width: 0;}#sk-container-id-1 div.sk-dashed-wrapped {border: 1px dashed gray;margin: 0 0.4em 0.5em 0.4em;box-sizing: border-box;padding-bottom: 0.4em;background-color: white;}#sk-container-id-1 div.sk-label label {font-family: monospace;font-weight: bold;display: inline-block;line-height: 1.2em;}#sk-container-id-1 div.sk-label-container {text-align: center;}#sk-container-id-1 div.sk-container {/* jupyter's `normalize.less` sets `[hidden] { display: none; }` but bootstrap.min.css set `[hidden] { display: none !important; }` so we also need the `!important` here to be able to override the default hidden behavior on the sphinx rendered scikit-learn.org. See: https://github.com/scikit-learn/scikit-learn/issues/21755 */display: inline-block !important;position: relative;}#sk-container-id-1 div.sk-text-repr-fallback {display: none;}</style><div id=\"sk-container-id-1\" class=\"sk-top-container\"><div class=\"sk-text-repr-fallback\"><pre>XGBClassifier(base_score=None, booster=None, callbacks=None,\n",
              "              colsample_bylevel=None, colsample_bynode=None,\n",
              "              colsample_bytree=None, early_stopping_rounds=None,\n",
              "              enable_categorical=False, eval_metric=None, feature_types=None,\n",
              "              gamma=None, gpu_id=None, grow_policy=None, importance_type=None,\n",
              "              interaction_constraints=None, learning_rate=None, max_bin=None,\n",
              "              max_cat_threshold=None, max_cat_to_onehot=None,\n",
              "              max_delta_step=None, max_depth=10, max_leaves=None,\n",
              "              min_child_weight=None, missing=nan, monotone_constraints=None,\n",
              "              n_estimators=700, n_jobs=None, num_parallel_tree=None,\n",
              "              predictor=None, random_state=None, ...)</pre><b>In a Jupyter environment, please rerun this cell to show the HTML representation or trust the notebook. <br />On GitHub, the HTML representation is unable to render, please try loading this page with nbviewer.org.</b></div><div class=\"sk-container\" hidden><div class=\"sk-item\"><div class=\"sk-estimator sk-toggleable\"><input class=\"sk-toggleable__control sk-hidden--visually\" id=\"sk-estimator-id-1\" type=\"checkbox\" checked><label for=\"sk-estimator-id-1\" class=\"sk-toggleable__label sk-toggleable__label-arrow\">XGBClassifier</label><div class=\"sk-toggleable__content\"><pre>XGBClassifier(base_score=None, booster=None, callbacks=None,\n",
              "              colsample_bylevel=None, colsample_bynode=None,\n",
              "              colsample_bytree=None, early_stopping_rounds=None,\n",
              "              enable_categorical=False, eval_metric=None, feature_types=None,\n",
              "              gamma=None, gpu_id=None, grow_policy=None, importance_type=None,\n",
              "              interaction_constraints=None, learning_rate=None, max_bin=None,\n",
              "              max_cat_threshold=None, max_cat_to_onehot=None,\n",
              "              max_delta_step=None, max_depth=10, max_leaves=None,\n",
              "              min_child_weight=None, missing=nan, monotone_constraints=None,\n",
              "              n_estimators=700, n_jobs=None, num_parallel_tree=None,\n",
              "              predictor=None, random_state=None, ...)</pre></div></div></div></div></div>"
            ]
          },
          "metadata": {},
          "execution_count": 14
        }
      ]
    },
    {
      "cell_type": "code",
      "source": [
        "#Changing assayID to int\n",
        "test_processed['assay'] = test_processed['assay'].astype('int64')\n",
        "\n",
        "#Making predicitons with the model\n",
        "test_preds = model.predict(test_processed[boruta_features2])\n",
        "test_preds"
      ],
      "metadata": {
        "colab": {
          "base_uri": "https://localhost:8080/"
        },
        "id": "UVJN6w9se-fZ",
        "outputId": "c748742f-e473-4574-d5cf-1dc2e521535b"
      },
      "execution_count": null,
      "outputs": [
        {
          "output_type": "execute_result",
          "data": {
            "text/plain": [
              "array([0, 0, 1, ..., 0, 0, 0])"
            ]
          },
          "metadata": {},
          "execution_count": 15
        }
      ]
    },
    {
      "cell_type": "code",
      "source": [
        "#Checking predictions for posititve and negative valeus\n",
        "np.unique(test_preds, return_counts=True)"
      ],
      "metadata": {
        "colab": {
          "base_uri": "https://localhost:8080/"
        },
        "id": "T9cJEQpLe-cp",
        "outputId": "313145fd-de14-4ce9-80c4-408e1ecc145b"
      },
      "execution_count": null,
      "outputs": [
        {
          "output_type": "execute_result",
          "data": {
            "text/plain": [
              "(array([0, 1]), array([9674, 1320]))"
            ]
          },
          "metadata": {},
          "execution_count": 16
        }
      ]
    },
    {
      "cell_type": "code",
      "source": [
        "#Converting the predictions into a dataframe\n",
        "res = pd.DataFrame({})\n",
        "res['Id'] = test_processed['x']\n",
        "res['Predicted'] = test_preds\n",
        "\n",
        "#Mapping expected values back to 2 and 1 \n",
        "res['Predicted'] = res['Predicted'].map({0:2, 1:1})\n",
        "res"
      ],
      "metadata": {
        "colab": {
          "base_uri": "https://localhost:8080/",
          "height": 423
        },
        "id": "LgvQmjWsrRd3",
        "outputId": "d8a53de3-b78b-4959-cac4-af8645b6fa44"
      },
      "execution_count": null,
      "outputs": [
        {
          "output_type": "execute_result",
          "data": {
            "text/plain": [
              "                                                      Id  Predicted\n",
              "0                         CC1=CC(=C(C=C1)C(C)(C)C)O;1682          2\n",
              "1                         CC1=CC(=C(C=C1)C(C)(C)C)O;2451          2\n",
              "2                         CC1=CC(=C(C=C1)C(C)(C)C)O;2442          1\n",
              "3                           CC1=CC(=C(C=C1)C(C)(C)C)O;32          2\n",
              "4                         CC1=CC(=C(C=C1)C(C)(C)C)O;1382          2\n",
              "...                                                  ...        ...\n",
              "10989                                 CC(=CC(=O)C)C;1856          2\n",
              "10990        CCCCCCCCCC[N+](C)(C)CC1=CC=CC=C1.[Cl-];1848          1\n",
              "10991  CC1=C(C(=O)N(N1C)C2=CC=CC=C2)N(C)CS(=O)(=O)[O-...          2\n",
              "10992                               COC1=CC=CC(=C1)C=O;2          2\n",
              "10993  CN1CC[C@]23[C@@H]4[C@H]1CC5=C2C(=C(C=C5)OC)O[C...          2\n",
              "\n",
              "[10994 rows x 2 columns]"
            ],
            "text/html": [
              "\n",
              "  <div id=\"df-e3621e49-b508-4472-b704-25c4ee67133d\">\n",
              "    <div class=\"colab-df-container\">\n",
              "      <div>\n",
              "<style scoped>\n",
              "    .dataframe tbody tr th:only-of-type {\n",
              "        vertical-align: middle;\n",
              "    }\n",
              "\n",
              "    .dataframe tbody tr th {\n",
              "        vertical-align: top;\n",
              "    }\n",
              "\n",
              "    .dataframe thead th {\n",
              "        text-align: right;\n",
              "    }\n",
              "</style>\n",
              "<table border=\"1\" class=\"dataframe\">\n",
              "  <thead>\n",
              "    <tr style=\"text-align: right;\">\n",
              "      <th></th>\n",
              "      <th>Id</th>\n",
              "      <th>Predicted</th>\n",
              "    </tr>\n",
              "  </thead>\n",
              "  <tbody>\n",
              "    <tr>\n",
              "      <th>0</th>\n",
              "      <td>CC1=CC(=C(C=C1)C(C)(C)C)O;1682</td>\n",
              "      <td>2</td>\n",
              "    </tr>\n",
              "    <tr>\n",
              "      <th>1</th>\n",
              "      <td>CC1=CC(=C(C=C1)C(C)(C)C)O;2451</td>\n",
              "      <td>2</td>\n",
              "    </tr>\n",
              "    <tr>\n",
              "      <th>2</th>\n",
              "      <td>CC1=CC(=C(C=C1)C(C)(C)C)O;2442</td>\n",
              "      <td>1</td>\n",
              "    </tr>\n",
              "    <tr>\n",
              "      <th>3</th>\n",
              "      <td>CC1=CC(=C(C=C1)C(C)(C)C)O;32</td>\n",
              "      <td>2</td>\n",
              "    </tr>\n",
              "    <tr>\n",
              "      <th>4</th>\n",
              "      <td>CC1=CC(=C(C=C1)C(C)(C)C)O;1382</td>\n",
              "      <td>2</td>\n",
              "    </tr>\n",
              "    <tr>\n",
              "      <th>...</th>\n",
              "      <td>...</td>\n",
              "      <td>...</td>\n",
              "    </tr>\n",
              "    <tr>\n",
              "      <th>10989</th>\n",
              "      <td>CC(=CC(=O)C)C;1856</td>\n",
              "      <td>2</td>\n",
              "    </tr>\n",
              "    <tr>\n",
              "      <th>10990</th>\n",
              "      <td>CCCCCCCCCC[N+](C)(C)CC1=CC=CC=C1.[Cl-];1848</td>\n",
              "      <td>1</td>\n",
              "    </tr>\n",
              "    <tr>\n",
              "      <th>10991</th>\n",
              "      <td>CC1=C(C(=O)N(N1C)C2=CC=CC=C2)N(C)CS(=O)(=O)[O-...</td>\n",
              "      <td>2</td>\n",
              "    </tr>\n",
              "    <tr>\n",
              "      <th>10992</th>\n",
              "      <td>COC1=CC=CC(=C1)C=O;2</td>\n",
              "      <td>2</td>\n",
              "    </tr>\n",
              "    <tr>\n",
              "      <th>10993</th>\n",
              "      <td>CN1CC[C@]23[C@@H]4[C@H]1CC5=C2C(=C(C=C5)OC)O[C...</td>\n",
              "      <td>2</td>\n",
              "    </tr>\n",
              "  </tbody>\n",
              "</table>\n",
              "<p>10994 rows × 2 columns</p>\n",
              "</div>\n",
              "      <button class=\"colab-df-convert\" onclick=\"convertToInteractive('df-e3621e49-b508-4472-b704-25c4ee67133d')\"\n",
              "              title=\"Convert this dataframe to an interactive table.\"\n",
              "              style=\"display:none;\">\n",
              "        \n",
              "  <svg xmlns=\"http://www.w3.org/2000/svg\" height=\"24px\"viewBox=\"0 0 24 24\"\n",
              "       width=\"24px\">\n",
              "    <path d=\"M0 0h24v24H0V0z\" fill=\"none\"/>\n",
              "    <path d=\"M18.56 5.44l.94 2.06.94-2.06 2.06-.94-2.06-.94-.94-2.06-.94 2.06-2.06.94zm-11 1L8.5 8.5l.94-2.06 2.06-.94-2.06-.94L8.5 2.5l-.94 2.06-2.06.94zm10 10l.94 2.06.94-2.06 2.06-.94-2.06-.94-.94-2.06-.94 2.06-2.06.94z\"/><path d=\"M17.41 7.96l-1.37-1.37c-.4-.4-.92-.59-1.43-.59-.52 0-1.04.2-1.43.59L10.3 9.45l-7.72 7.72c-.78.78-.78 2.05 0 2.83L4 21.41c.39.39.9.59 1.41.59.51 0 1.02-.2 1.41-.59l7.78-7.78 2.81-2.81c.8-.78.8-2.07 0-2.86zM5.41 20L4 18.59l7.72-7.72 1.47 1.35L5.41 20z\"/>\n",
              "  </svg>\n",
              "      </button>\n",
              "      \n",
              "  <style>\n",
              "    .colab-df-container {\n",
              "      display:flex;\n",
              "      flex-wrap:wrap;\n",
              "      gap: 12px;\n",
              "    }\n",
              "\n",
              "    .colab-df-convert {\n",
              "      background-color: #E8F0FE;\n",
              "      border: none;\n",
              "      border-radius: 50%;\n",
              "      cursor: pointer;\n",
              "      display: none;\n",
              "      fill: #1967D2;\n",
              "      height: 32px;\n",
              "      padding: 0 0 0 0;\n",
              "      width: 32px;\n",
              "    }\n",
              "\n",
              "    .colab-df-convert:hover {\n",
              "      background-color: #E2EBFA;\n",
              "      box-shadow: 0px 1px 2px rgba(60, 64, 67, 0.3), 0px 1px 3px 1px rgba(60, 64, 67, 0.15);\n",
              "      fill: #174EA6;\n",
              "    }\n",
              "\n",
              "    [theme=dark] .colab-df-convert {\n",
              "      background-color: #3B4455;\n",
              "      fill: #D2E3FC;\n",
              "    }\n",
              "\n",
              "    [theme=dark] .colab-df-convert:hover {\n",
              "      background-color: #434B5C;\n",
              "      box-shadow: 0px 1px 3px 1px rgba(0, 0, 0, 0.15);\n",
              "      filter: drop-shadow(0px 1px 2px rgba(0, 0, 0, 0.3));\n",
              "      fill: #FFFFFF;\n",
              "    }\n",
              "  </style>\n",
              "\n",
              "      <script>\n",
              "        const buttonEl =\n",
              "          document.querySelector('#df-e3621e49-b508-4472-b704-25c4ee67133d button.colab-df-convert');\n",
              "        buttonEl.style.display =\n",
              "          google.colab.kernel.accessAllowed ? 'block' : 'none';\n",
              "\n",
              "        async function convertToInteractive(key) {\n",
              "          const element = document.querySelector('#df-e3621e49-b508-4472-b704-25c4ee67133d');\n",
              "          const dataTable =\n",
              "            await google.colab.kernel.invokeFunction('convertToInteractive',\n",
              "                                                     [key], {});\n",
              "          if (!dataTable) return;\n",
              "\n",
              "          const docLinkHtml = 'Like what you see? Visit the ' +\n",
              "            '<a target=\"_blank\" href=https://colab.research.google.com/notebooks/data_table.ipynb>data table notebook</a>'\n",
              "            + ' to learn more about interactive tables.';\n",
              "          element.innerHTML = '';\n",
              "          dataTable['output_type'] = 'display_data';\n",
              "          await google.colab.output.renderOutput(dataTable, element);\n",
              "          const docLink = document.createElement('div');\n",
              "          docLink.innerHTML = docLinkHtml;\n",
              "          element.appendChild(docLink);\n",
              "        }\n",
              "      </script>\n",
              "    </div>\n",
              "  </div>\n",
              "  "
            ]
          },
          "metadata": {},
          "execution_count": 17
        }
      ]
    },
    {
      "cell_type": "code",
      "source": [
        "#Downloading the csv \n",
        "from google.colab import files\n",
        "\n",
        "res.to_csv('28-03-23-2.csv', encoding = 'utf-8-sig', index=False) \n",
        "files.download('28-03-23-2.csv')"
      ],
      "metadata": {
        "colab": {
          "base_uri": "https://localhost:8080/",
          "height": 17
        },
        "id": "0k7RPfkVrRXf",
        "outputId": "45c19acf-dc67-4f07-f14f-558425f165f5"
      },
      "execution_count": null,
      "outputs": [
        {
          "output_type": "display_data",
          "data": {
            "text/plain": [
              "<IPython.core.display.Javascript object>"
            ],
            "application/javascript": [
              "\n",
              "    async function download(id, filename, size) {\n",
              "      if (!google.colab.kernel.accessAllowed) {\n",
              "        return;\n",
              "      }\n",
              "      const div = document.createElement('div');\n",
              "      const label = document.createElement('label');\n",
              "      label.textContent = `Downloading \"${filename}\": `;\n",
              "      div.appendChild(label);\n",
              "      const progress = document.createElement('progress');\n",
              "      progress.max = size;\n",
              "      div.appendChild(progress);\n",
              "      document.body.appendChild(div);\n",
              "\n",
              "      const buffers = [];\n",
              "      let downloaded = 0;\n",
              "\n",
              "      const channel = await google.colab.kernel.comms.open(id);\n",
              "      // Send a message to notify the kernel that we're ready.\n",
              "      channel.send({})\n",
              "\n",
              "      for await (const message of channel.messages) {\n",
              "        // Send a message to notify the kernel that we're ready.\n",
              "        channel.send({})\n",
              "        if (message.buffers) {\n",
              "          for (const buffer of message.buffers) {\n",
              "            buffers.push(buffer);\n",
              "            downloaded += buffer.byteLength;\n",
              "            progress.value = downloaded;\n",
              "          }\n",
              "        }\n",
              "      }\n",
              "      const blob = new Blob(buffers, {type: 'application/binary'});\n",
              "      const a = document.createElement('a');\n",
              "      a.href = window.URL.createObjectURL(blob);\n",
              "      a.download = filename;\n",
              "      div.appendChild(a);\n",
              "      a.click();\n",
              "      div.remove();\n",
              "    }\n",
              "  "
            ]
          },
          "metadata": {}
        },
        {
          "output_type": "display_data",
          "data": {
            "text/plain": [
              "<IPython.core.display.Javascript object>"
            ],
            "application/javascript": [
              "download(\"download_402e6e27-eb0a-455b-8b57-cbf21137dc41\", \"28-03-23-2.csv\", 511185)"
            ]
          },
          "metadata": {}
        }
      ]
    },
    {
      "cell_type": "code",
      "source": [
        "res"
      ],
      "metadata": {
        "colab": {
          "base_uri": "https://localhost:8080/",
          "height": 423
        },
        "id": "THZzszKyrRU8",
        "outputId": "9b9fb3fd-bf60-4477-846a-a50bce0551d6"
      },
      "execution_count": null,
      "outputs": [
        {
          "output_type": "execute_result",
          "data": {
            "text/plain": [
              "                                                      Id  Predicted2\n",
              "0                         CC1=CC(=C(C=C1)C(C)(C)C)O;1682           2\n",
              "1                         CC1=CC(=C(C=C1)C(C)(C)C)O;2451           2\n",
              "2                         CC1=CC(=C(C=C1)C(C)(C)C)O;2442           1\n",
              "3                           CC1=CC(=C(C=C1)C(C)(C)C)O;32           2\n",
              "4                         CC1=CC(=C(C=C1)C(C)(C)C)O;1382           2\n",
              "...                                                  ...         ...\n",
              "10989                                 CC(=CC(=O)C)C;1856           2\n",
              "10990        CCCCCCCCCC[N+](C)(C)CC1=CC=CC=C1.[Cl-];1848           1\n",
              "10991  CC1=C(C(=O)N(N1C)C2=CC=CC=C2)N(C)CS(=O)(=O)[O-...           2\n",
              "10992                               COC1=CC=CC(=C1)C=O;2           2\n",
              "10993  CN1CC[C@]23[C@@H]4[C@H]1CC5=C2C(=C(C=C5)OC)O[C...           2\n",
              "\n",
              "[10994 rows x 2 columns]"
            ],
            "text/html": [
              "\n",
              "  <div id=\"df-023bbe9e-83ec-4aac-ad79-522d644acb30\">\n",
              "    <div class=\"colab-df-container\">\n",
              "      <div>\n",
              "<style scoped>\n",
              "    .dataframe tbody tr th:only-of-type {\n",
              "        vertical-align: middle;\n",
              "    }\n",
              "\n",
              "    .dataframe tbody tr th {\n",
              "        vertical-align: top;\n",
              "    }\n",
              "\n",
              "    .dataframe thead th {\n",
              "        text-align: right;\n",
              "    }\n",
              "</style>\n",
              "<table border=\"1\" class=\"dataframe\">\n",
              "  <thead>\n",
              "    <tr style=\"text-align: right;\">\n",
              "      <th></th>\n",
              "      <th>Id</th>\n",
              "      <th>Predicted2</th>\n",
              "    </tr>\n",
              "  </thead>\n",
              "  <tbody>\n",
              "    <tr>\n",
              "      <th>0</th>\n",
              "      <td>CC1=CC(=C(C=C1)C(C)(C)C)O;1682</td>\n",
              "      <td>2</td>\n",
              "    </tr>\n",
              "    <tr>\n",
              "      <th>1</th>\n",
              "      <td>CC1=CC(=C(C=C1)C(C)(C)C)O;2451</td>\n",
              "      <td>2</td>\n",
              "    </tr>\n",
              "    <tr>\n",
              "      <th>2</th>\n",
              "      <td>CC1=CC(=C(C=C1)C(C)(C)C)O;2442</td>\n",
              "      <td>1</td>\n",
              "    </tr>\n",
              "    <tr>\n",
              "      <th>3</th>\n",
              "      <td>CC1=CC(=C(C=C1)C(C)(C)C)O;32</td>\n",
              "      <td>2</td>\n",
              "    </tr>\n",
              "    <tr>\n",
              "      <th>4</th>\n",
              "      <td>CC1=CC(=C(C=C1)C(C)(C)C)O;1382</td>\n",
              "      <td>2</td>\n",
              "    </tr>\n",
              "    <tr>\n",
              "      <th>...</th>\n",
              "      <td>...</td>\n",
              "      <td>...</td>\n",
              "    </tr>\n",
              "    <tr>\n",
              "      <th>10989</th>\n",
              "      <td>CC(=CC(=O)C)C;1856</td>\n",
              "      <td>2</td>\n",
              "    </tr>\n",
              "    <tr>\n",
              "      <th>10990</th>\n",
              "      <td>CCCCCCCCCC[N+](C)(C)CC1=CC=CC=C1.[Cl-];1848</td>\n",
              "      <td>1</td>\n",
              "    </tr>\n",
              "    <tr>\n",
              "      <th>10991</th>\n",
              "      <td>CC1=C(C(=O)N(N1C)C2=CC=CC=C2)N(C)CS(=O)(=O)[O-...</td>\n",
              "      <td>2</td>\n",
              "    </tr>\n",
              "    <tr>\n",
              "      <th>10992</th>\n",
              "      <td>COC1=CC=CC(=C1)C=O;2</td>\n",
              "      <td>2</td>\n",
              "    </tr>\n",
              "    <tr>\n",
              "      <th>10993</th>\n",
              "      <td>CN1CC[C@]23[C@@H]4[C@H]1CC5=C2C(=C(C=C5)OC)O[C...</td>\n",
              "      <td>2</td>\n",
              "    </tr>\n",
              "  </tbody>\n",
              "</table>\n",
              "<p>10994 rows × 2 columns</p>\n",
              "</div>\n",
              "      <button class=\"colab-df-convert\" onclick=\"convertToInteractive('df-023bbe9e-83ec-4aac-ad79-522d644acb30')\"\n",
              "              title=\"Convert this dataframe to an interactive table.\"\n",
              "              style=\"display:none;\">\n",
              "        \n",
              "  <svg xmlns=\"http://www.w3.org/2000/svg\" height=\"24px\"viewBox=\"0 0 24 24\"\n",
              "       width=\"24px\">\n",
              "    <path d=\"M0 0h24v24H0V0z\" fill=\"none\"/>\n",
              "    <path d=\"M18.56 5.44l.94 2.06.94-2.06 2.06-.94-2.06-.94-.94-2.06-.94 2.06-2.06.94zm-11 1L8.5 8.5l.94-2.06 2.06-.94-2.06-.94L8.5 2.5l-.94 2.06-2.06.94zm10 10l.94 2.06.94-2.06 2.06-.94-2.06-.94-.94-2.06-.94 2.06-2.06.94z\"/><path d=\"M17.41 7.96l-1.37-1.37c-.4-.4-.92-.59-1.43-.59-.52 0-1.04.2-1.43.59L10.3 9.45l-7.72 7.72c-.78.78-.78 2.05 0 2.83L4 21.41c.39.39.9.59 1.41.59.51 0 1.02-.2 1.41-.59l7.78-7.78 2.81-2.81c.8-.78.8-2.07 0-2.86zM5.41 20L4 18.59l7.72-7.72 1.47 1.35L5.41 20z\"/>\n",
              "  </svg>\n",
              "      </button>\n",
              "      \n",
              "  <style>\n",
              "    .colab-df-container {\n",
              "      display:flex;\n",
              "      flex-wrap:wrap;\n",
              "      gap: 12px;\n",
              "    }\n",
              "\n",
              "    .colab-df-convert {\n",
              "      background-color: #E8F0FE;\n",
              "      border: none;\n",
              "      border-radius: 50%;\n",
              "      cursor: pointer;\n",
              "      display: none;\n",
              "      fill: #1967D2;\n",
              "      height: 32px;\n",
              "      padding: 0 0 0 0;\n",
              "      width: 32px;\n",
              "    }\n",
              "\n",
              "    .colab-df-convert:hover {\n",
              "      background-color: #E2EBFA;\n",
              "      box-shadow: 0px 1px 2px rgba(60, 64, 67, 0.3), 0px 1px 3px 1px rgba(60, 64, 67, 0.15);\n",
              "      fill: #174EA6;\n",
              "    }\n",
              "\n",
              "    [theme=dark] .colab-df-convert {\n",
              "      background-color: #3B4455;\n",
              "      fill: #D2E3FC;\n",
              "    }\n",
              "\n",
              "    [theme=dark] .colab-df-convert:hover {\n",
              "      background-color: #434B5C;\n",
              "      box-shadow: 0px 1px 3px 1px rgba(0, 0, 0, 0.15);\n",
              "      filter: drop-shadow(0px 1px 2px rgba(0, 0, 0, 0.3));\n",
              "      fill: #FFFFFF;\n",
              "    }\n",
              "  </style>\n",
              "\n",
              "      <script>\n",
              "        const buttonEl =\n",
              "          document.querySelector('#df-023bbe9e-83ec-4aac-ad79-522d644acb30 button.colab-df-convert');\n",
              "        buttonEl.style.display =\n",
              "          google.colab.kernel.accessAllowed ? 'block' : 'none';\n",
              "\n",
              "        async function convertToInteractive(key) {\n",
              "          const element = document.querySelector('#df-023bbe9e-83ec-4aac-ad79-522d644acb30');\n",
              "          const dataTable =\n",
              "            await google.colab.kernel.invokeFunction('convertToInteractive',\n",
              "                                                     [key], {});\n",
              "          if (!dataTable) return;\n",
              "\n",
              "          const docLinkHtml = 'Like what you see? Visit the ' +\n",
              "            '<a target=\"_blank\" href=https://colab.research.google.com/notebooks/data_table.ipynb>data table notebook</a>'\n",
              "            + ' to learn more about interactive tables.';\n",
              "          element.innerHTML = '';\n",
              "          dataTable['output_type'] = 'display_data';\n",
              "          await google.colab.output.renderOutput(dataTable, element);\n",
              "          const docLink = document.createElement('div');\n",
              "          docLink.innerHTML = docLinkHtml;\n",
              "          element.appendChild(docLink);\n",
              "        }\n",
              "      </script>\n",
              "    </div>\n",
              "  </div>\n",
              "  "
            ]
          },
          "metadata": {},
          "execution_count": 210
        }
      ]
    },
    {
      "cell_type": "code",
      "source": [],
      "metadata": {
        "id": "d7d5tcAn8SGl"
      },
      "execution_count": null,
      "outputs": []
    }
  ],
  "metadata": {
    "colab": {
      "collapsed_sections": [
        "d7XX7yaeBoMC"
      ],
      "provenance": [],
      "authorship_tag": "ABX9TyNf+TbNoSU5qiMX+mgbBe2L",
      "include_colab_link": true
    },
    "gpuClass": "standard",
    "kernelspec": {
      "display_name": "Python 3",
      "name": "python3"
    },
    "language_info": {
      "name": "python"
    }
  },
  "nbformat": 4,
  "nbformat_minor": 0
}